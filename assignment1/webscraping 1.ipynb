{
 "cells": [
  {
   "cell_type": "code",
   "execution_count": 21,
   "id": "5468881c",
   "metadata": {},
   "outputs": [],
   "source": [
    "import requests \n",
    "from bs4 import BeautifulSoup as bs\n",
    "import pandas as pd"
   ]
  },
  {
   "cell_type": "code",
   "execution_count": 22,
   "id": "c673f438",
   "metadata": {},
   "outputs": [
    {
     "name": "stdout",
     "output_type": "stream",
     "text": [
      "          Region Country                      Exchange       Location Founded  \\\n",
      "0  North America  Canada  Canadian Securities Exchange        Toronto    2004   \n",
      "1  North America  Canada             Montreal Exchange       Montreal    1872   \n",
      "2  North America  Canada                 NASDAQ Canada  New York City    2000   \n",
      "3  North America  Canada        Toronto Stock Exchange        Toronto    1861   \n",
      "4  North America  Canada          TSX Venture Exchange        Calgary    2001   \n",
      "\n",
      "   Listings           Link  Technology Operating MIC  \n",
      "0       NaN            CSE         NaN          XCNQ  \n",
      "1       NaN             MX         NaN           NaN  \n",
      "2       NaN  Nasdaq Canada         NaN           NaN  \n",
      "3       NaN            TSX         NaN           NaN  \n",
      "4       NaN            TSX         NaN           NaN  \n"
     ]
    }
   ],
   "source": [
    "url1=\"https://en.wikipedia.org/wiki/List_of_stock_exchanges_in_the_Americas\"\n",
    "r1=requests.get(url1)\n",
    "soup1=bs(r1.text,'html.parser')\n",
    "#print(soup1.prettify())\n",
    "table1 = soup1.find('table', id=\"exchanges_table\")\n",
    "#print(table1)\n",
    "Americas =pd.read_html(str(table1))\n",
    "Americas=pd.DataFrame(Americas[0])\n",
    "\n",
    "Americas=Americas.reindex(columns = Americas.columns.tolist()+ ['Listings','Technology'])\n",
    "Americas=Americas.iloc[:,[0,1,2,3,4,7,5,8,6]]\n",
    "\n",
    "print(Americas.head())"
   ]
  },
  {
   "cell_type": "code",
   "execution_count": 23,
   "id": "842e2144",
   "metadata": {},
   "outputs": [
    {
     "name": "stdout",
     "output_type": "stream",
     "text": [
      "   Region     Country                         Exchange  Location Founded  \\\n",
      "0  Africa     Algeria           Algiers Stock Exchange   Algiers    1997   \n",
      "1  Africa      Angola   Angola Debt and Stock Exchange    Luanda    2016   \n",
      "2  Africa    Botswana         Botswana Stock Exchange*  Gaborone    1989   \n",
      "3  Africa    Cameroon           Douala Stock Exchange*    Douala    2001   \n",
      "4  Africa  Cape Verde  Bolsa de Valores de Cabo Verde*     Praia    1998   \n",
      "\n",
      "  Listings    Link           Technology  Operating MIC  \n",
      "0        5    SGBV                  NaN            NaN  \n",
      "1      NaN  Bodiva  InfoTech Capizar[2]            NaN  \n",
      "2       44     BSE                  NaN            NaN  \n",
      "3        2     DSX                  NaN            NaN  \n",
      "4      NaN     BVC                  NaN            NaN  \n"
     ]
    }
   ],
   "source": [
    "url2=\"https://en.wikipedia.org/wiki/List_of_African_stock_exchanges\"\n",
    "r2=requests.get(url2)\n",
    "soup2=bs(r2.text,'html.parser')\n",
    "#print(soup2.prettify())\n",
    "#class=\"wikitable sortable jquery-tablesorter\"\n",
    "table2 = soup2.find('table', {'class':\"wikitable\"})\n",
    "#print(table2)\n",
    "Africa =pd.read_html(str(table2))\n",
    "Africa=pd.DataFrame(Africa[0])\n",
    "#print(Africa.head())\n",
    "\n",
    "Africa=Africa.reindex(columns =Africa.columns.tolist()+ ['Operating MIC'])\n",
    "Africa.insert(0, \"Region\", \"Africa\")\n",
    "\n",
    "Africa.rename(columns = {'Economy':'Country'}, inplace = True)\n",
    "print(Africa.head())"
   ]
  },
  {
   "cell_type": "code",
   "execution_count": 24,
   "id": "3870a6d7",
   "metadata": {},
   "outputs": [
    {
     "name": "stdout",
     "output_type": "stream",
     "text": [
      "   Region       Country                     Exchange  \\\n",
      "0  Europe  Pan-European                     Euronext   \n",
      "1  Europe  Pan-European                Nasdaq Nordic   \n",
      "2  Europe       Albania        Tirana Stock Exchange   \n",
      "3  Europe       Armenia  Armenia Securities Exchange   \n",
      "4  Europe       Austria                 Wiener Börse   \n",
      "\n",
      "                                            Location      Founded  Listings  \\\n",
      "0  Brussels, Paris, Dublin, Amsterdam, Lisbon, Os...  1602 (2000)    1300.0   \n",
      "1  Copenhagen, Stockholm, Helsinki, Reykjavík, Ta...  1620 (2003)       NaN   \n",
      "2                                             Tirana         1996       4.0   \n",
      "3                                            Yerevan         2001       NaN   \n",
      "4                                             Vienna         1771      63.0   \n",
      "\n",
      "   Link Technology Operating MIC  \n",
      "0   NaN      OPTIQ           NaN  \n",
      "1   NaN     Genium           NaN  \n",
      "2   NaN        NaN          XTIR  \n",
      "3   NaN        NaN           AMX  \n",
      "4   NaN        NaN          XWBO  \n"
     ]
    }
   ],
   "source": [
    "url3=\"https://en.wikipedia.org/wiki/List_of_European_stock_exchanges\"\n",
    "r3=requests.get(url3)\n",
    "soup3=bs(r3.text,'html.parser')\n",
    "#print(soup3.prettify())\n",
    "#id=\"exchanges_table\" class=\"wikitable sortable jquery-tablesorter\"\n",
    "table3 = soup3.find('table',id=\"exchanges_table\" )\n",
    "#print(table3)\n",
    "Europe =pd.read_html(str(table3))\n",
    "Europe=pd.DataFrame(Europe[0])\n",
    "\n",
    "Europe=Europe.reindex(columns = Europe.columns.tolist()+ ['Link'])\n",
    "Europe=Europe.iloc[:,[0,1,2,3,4,7,5,6]]\n",
    "Europe.insert(0, \"Region\", \"Europe\")\n",
    "Europe.rename(columns = {'Stock exchange':'Exchange','City':'Location','OperatingMIC':'Operating MIC'}, inplace = True)\n",
    "print(Europe.head())"
   ]
  },
  {
   "cell_type": "code",
   "execution_count": 25,
   "id": "26975340",
   "metadata": {},
   "outputs": [
    {
     "name": "stdout",
     "output_type": "stream",
     "text": [
      "    Region           Country  \\\n",
      "0  Oceania         Australia   \n",
      "1  Oceania         Australia   \n",
      "2  Oceania         Australia   \n",
      "3  Oceania         Australia   \n",
      "4  Oceania         Australia   \n",
      "5  Oceania              Fiji   \n",
      "6  Oceania       New Zealand   \n",
      "7  Oceania  Papua New Guinea   \n",
      "\n",
      "                                            Exchange      Location  Founded  \\\n",
      "0                                              APTEX        Sydney     2008   \n",
      "1  Sydney Stock Exchange (formerly Asia Pacific S...     Melbourne     1997   \n",
      "2                     Australian Securities Exchange        Sydney     1987   \n",
      "3                                    Chi-X Australia     Melbourne     2008   \n",
      "4               National Stock Exchange of Australia        Sydney     1937   \n",
      "5                       South Pacific Stock Exchange          Suva     1971   \n",
      "6                               New Zealand Exchange    Wellington     2002   \n",
      "7                            PNGX Markets Limited[6]  Port Moresby     1999   \n",
      "\n",
      "   Listings  Link                 Technology Operating MIC  \n",
      "0       NaN   NaN                        NaN           NaN  \n",
      "1       NaN   NaN         Nasdaq X-stream[2]          APXL  \n",
      "2       NaN   ASX      Nasdaq Genium INET[3]          XASX  \n",
      "3       NaN   CXA                        NaN          CHIA  \n",
      "4       NaN   NSX         Nasdaq X-stream[4]          XNEC  \n",
      "5       NaN   SPX                        NaN          XSPS  \n",
      "6       NaN   NZX        Nasdaq X-stream [5]          XNZE  \n",
      "7       NaN  PNGX  Nasdaq Matching Engine[7]          XPOM  \n"
     ]
    }
   ],
   "source": [
    "url4=\"https://en.wikipedia.org/wiki/List_of_stock_exchanges_in_Oceania\"\n",
    "r4=requests.get(url4)\n",
    "soup4=bs(r4.text,'html.parser')\n",
    "#print(soup3.prettify())\n",
    "\n",
    "#class=\"wikitable\"\n",
    "table4 = soup4.find('table' ,{'class':\"wikitable\" })\n",
    "#print(table4)\n",
    "Oceania =pd.read_html(str(table4))\n",
    "Oceania=pd.DataFrame(Oceania[0])\n",
    "\n",
    "Oceania=Oceania.reindex(columns = Oceania.columns.tolist()+ ['Listings'])\n",
    "Oceania=Oceania.iloc[:,[0,1,2,3,7,4,5,6]]\n",
    "Oceania.insert(0, \"Region\", \"Oceania\")\n",
    "Oceania.rename(columns = {'Economy':'Country'}, inplace = True)\n",
    "print(Oceania)"
   ]
  },
  {
   "cell_type": "code",
   "execution_count": 27,
   "id": "6c305a1f",
   "metadata": {},
   "outputs": [
    {
     "name": "stdout",
     "output_type": "stream",
     "text": [
      "         Region       Country  \\\n",
      "0  Central_Asia    Kazakhstan   \n",
      "1  Central_Asia    Kazakhstan   \n",
      "2  Central_Asia    Kyrgyzstan   \n",
      "3  Central_Asia    Tajikistan   \n",
      "4  Central_Asia  Turkmenistan   \n",
      "\n",
      "                                            Exchange    Location Founded  \\\n",
      "0                          Kazakhstan Stock Exchange      Almaty    1993   \n",
      "1                      Astana International Exchange  Nur-Sultan    2018   \n",
      "2                        Kyrgyz Stock Exchange (KSE)     Bishkek    1994   \n",
      "3                       Central Asian Stock Exchange    Dushanbe    2015   \n",
      "4  State Commodity and Raw Material Exchange of T...    Ashgabat    1994   \n",
      "\n",
      "  Listings    Link                 Technology Operating MIC  \n",
      "0    127.0    KASE                        NaN           NaN  \n",
      "1     25.0     AIX  Nasdaq Matching Engine[3]          AIXK  \n",
      "2      NaN     KSE                        NaN           NaN  \n",
      "3      NaN    CASE                        NaN           NaN  \n",
      "4      NaN  SRCMET                        NaN           NaN  \n"
     ]
    },
    {
     "name": "stderr",
     "output_type": "stream",
     "text": [
      "C:\\Users\\Dell\\AppData\\Local\\Temp\\ipykernel_5876\\1195992782.py:42: FutureWarning: The frame.append method is deprecated and will be removed from pandas in a future version. Use pandas.concat instead.\n",
      "  Asian=Central_Asia.append([Eastern_Asia,Northern_Asia,Southeast_Asia,Southern_Asia,Western_Asia],ignore_index=True)\n"
     ]
    }
   ],
   "source": [
    "url5=\"https://en.wikipedia.org/wiki/List_of_Asian_stock_exchanges\"\n",
    "r5=requests.get(url5)\n",
    "soup5=bs(r5.text,'html.parser')\n",
    "#print(soup3.prettify())\n",
    "\n",
    "#class=\"wikitable sortable jquery-tablesorter\"\n",
    "table5 = soup5.find_all('table' ,{'class':\"wikitable\" })\n",
    "#print(table4)\n",
    "Asia =pd.read_html(str(table5))\n",
    "\n",
    "Central_Asia=pd.DataFrame(Asia[0])\n",
    "Central_Asia.insert(0, \"Region\", \"Central_Asia\")\n",
    "Central_Asia.rename(columns = {'Economy':'Country'}, inplace = True)\n",
    "\n",
    "Eastern_Asia=pd.DataFrame(Asia[1])\n",
    "Eastern_Asia.insert(0, \"Region\", \"Eastern_Asia\")\n",
    "Eastern_Asia=Eastern_Asia.reindex(columns =Eastern_Asia.columns.tolist()+ ['Technology','Operating MIC'])\n",
    "Eastern_Asia.rename(columns = {'Economy':'Country'}, inplace = True)\n",
    "\n",
    "\n",
    "Northern_Asia=pd.DataFrame(Asia[2])\n",
    "Northern_Asia.insert(0, \"Region\", \"Northern_Asia\")\n",
    "Northern_Asia.rename(columns = {'Economy':'Country'}, inplace = True)\n",
    "\n",
    "\n",
    "Southeast_Asia=pd.DataFrame(Asia[3])\n",
    "Southeast_Asia.insert(0, \"Region\", \"Southeast_Asia\")\n",
    "Southeast_Asia=Southeast_Asia.reindex(columns =Southeast_Asia.columns.tolist()+ ['Technology','Operating MIC'])\n",
    "Southeast_Asia.rename(columns = {'Economy':'Country'}, inplace = True)\n",
    "\n",
    "Southern_Asia=pd.DataFrame(Asia[4])\n",
    "Southern_Asia.insert(0, \"Region\", \"Southern_Asia\")\n",
    "Southern_Asia=Southern_Asia.reindex(columns =Southern_Asia.columns.tolist()+ ['Operating MIC'])\n",
    "Southern_Asia=Southern_Asia.iloc[:,[0,1,2,3,4,5,6,7,9]]      \n",
    "Southern_Asia.rename(columns = {'Economy':'Country'}, inplace = True)\n",
    "\n",
    "Western_Asia=pd.DataFrame(Asia[5])\n",
    "Western_Asia.insert(0, \"Region\", \"Western_Asia\")\n",
    "Western_Asia.rename(columns = {'Economy':'Country'}, inplace = True)\n",
    "\n",
    "\n",
    "Asian=Central_Asia.append([Eastern_Asia,Northern_Asia,Southeast_Asia,Southern_Asia,Western_Asia],ignore_index=True)\n",
    "print(Asian.head())"
   ]
  },
  {
   "cell_type": "code",
   "execution_count": 28,
   "id": "6e87e39b",
   "metadata": {},
   "outputs": [
    {
     "name": "stdout",
     "output_type": "stream",
     "text": [
      "            Region               Country                           Exchange  \\\n",
      "0    North America                Canada       Canadian Securities Exchange   \n",
      "1    North America                Canada                  Montreal Exchange   \n",
      "2    North America                Canada                      NASDAQ Canada   \n",
      "3    North America                Canada             Toronto Stock Exchange   \n",
      "4    North America                Canada               TSX Venture Exchange   \n",
      "..             ...                   ...                                ...   \n",
      "270   Western_Asia                 Syria       Damascus Securities Exchange   \n",
      "271   Western_Asia  United Arab Emirates        Abu Dhabi Securities Market   \n",
      "272   Western_Asia  United Arab Emirates             Dubai Financial Market   \n",
      "273   Western_Asia  United Arab Emirates                       NASDAQ Dubai   \n",
      "274   Western_Asia  United Arab Emirates  Dubai Gold & Commodities Exchange   \n",
      "\n",
      "          Location Founded Listings           Link  \\\n",
      "0          Toronto    2004      NaN            CSE   \n",
      "1         Montreal    1872      NaN             MX   \n",
      "2    New York City    2000      NaN  Nasdaq Canada   \n",
      "3          Toronto    1861      NaN            TSX   \n",
      "4          Calgary    2001      NaN            TSX   \n",
      "..             ...     ...      ...            ...   \n",
      "270       Damascus    2009     24.0            DSE   \n",
      "271      Abu Dhabi    2000     73.0           ADSM   \n",
      "272          Dubai    2000    178.0            DFM   \n",
      "273          Dubai    2005      NaN   NASDAQ Dubai   \n",
      "274          Dubai    2005      NaN           DGCX   \n",
      "\n",
      "                     Technology Operating MIC  \n",
      "0                           NaN          XCNQ  \n",
      "1                           NaN           NaN  \n",
      "2                           NaN           NaN  \n",
      "3                           NaN           NaN  \n",
      "4                           NaN           NaN  \n",
      "..                          ...           ...  \n",
      "270                         NaN           NaN  \n",
      "271                         NaN           NaN  \n",
      "272  Nasdaq Matching Engine[24]           NaN  \n",
      "273                         NaN           NaN  \n",
      "274    Cinnober TRADExpress[25]           NaN  \n",
      "\n",
      "[275 rows x 9 columns]\n"
     ]
    },
    {
     "name": "stderr",
     "output_type": "stream",
     "text": [
      "C:\\Users\\Dell\\AppData\\Local\\Temp\\ipykernel_5876\\843241486.py:1: FutureWarning: The frame.append method is deprecated and will be removed from pandas in a future version. Use pandas.concat instead.\n",
      "  result = Americas.append([Africa,Europe,Oceania,Asian],ignore_index=True)\n"
     ]
    }
   ],
   "source": [
    "result = Americas.append([Africa,Europe,Oceania,Asian],ignore_index=True)\n",
    "print(result)"
   ]
  },
  {
   "cell_type": "code",
   "execution_count": 31,
   "id": "ac631a87",
   "metadata": {},
   "outputs": [],
   "source": [
    "result.to_csv(\"file1.csv\")"
   ]
  },
  {
   "cell_type": "code",
   "execution_count": null,
   "id": "f449d63b",
   "metadata": {},
   "outputs": [],
   "source": []
  }
 ],
 "metadata": {
  "kernelspec": {
   "display_name": "Python 3 (ipykernel)",
   "language": "python",
   "name": "python3"
  },
  "language_info": {
   "codemirror_mode": {
    "name": "ipython",
    "version": 3
   },
   "file_extension": ".py",
   "mimetype": "text/x-python",
   "name": "python",
   "nbconvert_exporter": "python",
   "pygments_lexer": "ipython3",
   "version": "3.9.13"
  }
 },
 "nbformat": 4,
 "nbformat_minor": 5
}
